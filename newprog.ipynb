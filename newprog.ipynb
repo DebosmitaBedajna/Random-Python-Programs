{
 "cells": [
  {
   "cell_type": "code",
   "execution_count": 1,
   "id": "c39f8833",
   "metadata": {},
   "outputs": [
    {
     "name": "stdout",
     "output_type": "stream",
     "text": [
      "Debosmita Bedajna\n"
     ]
    }
   ],
   "source": [
    "print('Debosmita Bedajna')"
   ]
  },
  {
   "cell_type": "code",
   "execution_count": 2,
   "id": "ad0d79e9",
   "metadata": {},
   "outputs": [
    {
     "name": "stdout",
     "output_type": "stream",
     "text": [
      "o----\n",
      "||||\n"
     ]
    }
   ],
   "source": [
    "print('o----')\n",
    "print('||||')"
   ]
  },
  {
   "cell_type": "code",
   "execution_count": 3,
   "id": "bf3ba6e2",
   "metadata": {},
   "outputs": [
    {
     "name": "stdout",
     "output_type": "stream",
     "text": [
      "**********\n"
     ]
    }
   ],
   "source": [
    "print('*' * 10)"
   ]
  },
  {
   "cell_type": "code",
   "execution_count": 8,
   "id": "72d9b47e",
   "metadata": {},
   "outputs": [
    {
     "name": "stdout",
     "output_type": "stream",
     "text": [
      "14.9\n"
     ]
    }
   ],
   "source": [
    "price=10\n",
    "rating=4.9\n",
    "is_published= False\n",
    "print(price+rating)"
   ]
  },
  {
   "cell_type": "code",
   "execution_count": 15,
   "id": "e5625e26",
   "metadata": {},
   "outputs": [
    {
     "name": "stdout",
     "output_type": "stream",
     "text": [
      "John Smith\n",
      " aged  20\n",
      " is a new patient: True\n"
     ]
    }
   ],
   "source": [
    "patient_name=\"John Smith\"\n",
    "patient_age=20\n",
    "new_patient=True\n",
    "print( patient_name)\n",
    "print(' aged ', patient_age)\n",
    "print(' is a new patient:', new_patient)"
   ]
  },
  {
   "cell_type": "code",
   "execution_count": 16,
   "id": "c1bbff7e",
   "metadata": {},
   "outputs": [
    {
     "name": "stdout",
     "output_type": "stream",
     "text": [
      "What is your name? Debosmita\n",
      "Hi Debosmita\n"
     ]
    }
   ],
   "source": [
    "name= input('What is your name? ')\n",
    "print('Hi', name)"
   ]
  },
  {
   "cell_type": "code",
   "execution_count": 17,
   "id": "42d3a28b",
   "metadata": {},
   "outputs": [
    {
     "name": "stdout",
     "output_type": "stream",
     "text": [
      "What is your name? Debosmita\n",
      "What is your favourite colour? purple\n",
      "Debosmita likes purple\n"
     ]
    }
   ],
   "source": [
    "name=input('What is your name? ')\n",
    "colour=input('What is your favourite colour? ')\n",
    "print(name + ' likes '+ colour)"
   ]
  },
  {
   "cell_type": "code",
   "execution_count": 21,
   "id": "2700eef1",
   "metadata": {},
   "outputs": [
    {
     "name": "stdout",
     "output_type": "stream",
     "text": [
      "What is your name? Debosmita\n",
      "Birth Year: 2003\n",
      "Debosmita is 19 years old\n",
      "<class 'int'>\n"
     ]
    }
   ],
   "source": [
    "name=input('What is your name? ')\n",
    "birth_year=int(input('Birth Year: '))\n",
    "age=2022-birth_year\n",
    "print(name,'is', age, 'years old')\n",
    "print(type(age))"
   ]
  },
  {
   "cell_type": "code",
   "execution_count": 1,
   "id": "c357ef50",
   "metadata": {},
   "outputs": [
    {
     "name": "stdout",
     "output_type": "stream",
     "text": [
      "Enter your weight in pounds: 125.033\n",
      "Your weight in kgs is:  56.713968536\n"
     ]
    }
   ],
   "source": [
    "weight=float(input('Enter your weight in pounds: '))\n",
    "modweight= weight * 0.453592\n",
    "print('Your weight in kgs is: ',modweight)"
   ]
  },
  {
   "cell_type": "code",
   "execution_count": 12,
   "id": "838a2dd4",
   "metadata": {},
   "outputs": [
    {
     "name": "stdout",
     "output_type": "stream",
     "text": [
      "Python's Course for Beginners\n",
      "Python's\n",
      "ython's Course for Beginner\n"
     ]
    }
   ],
   "source": [
    "course= \"Python's Course for Beginners\"\n",
    "print(course)\n",
    "#For multiline strings use: ''' '''\n",
    "print(course[0:8])\n",
    "print(course[1:-1])\n",
    "#in the second place, the respective letters are excluded"
   ]
  },
  {
   "cell_type": "code",
   "execution_count": 17,
   "id": "76318e76",
   "metadata": {},
   "outputs": [
    {
     "name": "stdout",
     "output_type": "stream",
     "text": [
      "Enter first name:Debosmita\n",
      "Enter second name:Bedajna\n",
      "Debosmita [Bedajna] is a coder\n"
     ]
    }
   ],
   "source": [
    "name=input('Enter first name:')\n",
    "surname=input('Enter second name:')\n",
    "#print('My name is', name+' '+ surname)\n",
    "msg=f'{name} [{surname}] is a coder'\n",
    "print(msg)"
   ]
  },
  {
   "cell_type": "code",
   "execution_count": 18,
   "id": "4d08526b",
   "metadata": {},
   "outputs": [
    {
     "name": "stdout",
     "output_type": "stream",
     "text": [
      "13\n"
     ]
    }
   ],
   "source": [
    "x=10\n",
    "x+=3\n",
    "print(x)"
   ]
  },
  {
   "cell_type": "code",
   "execution_count": 20,
   "id": "911ed0a1",
   "metadata": {},
   "outputs": [
    {
     "name": "stdout",
     "output_type": "stream",
     "text": [
      "It's a cold day\n",
      "Wear warm clothes\n"
     ]
    }
   ],
   "source": [
    "is_hot=False\n",
    "is_cold=True\n",
    "if is_hot:\n",
    "    print(\"It's a hot day\")\n",
    "    print(\"Drink plenty of water\")\n",
    "elif is_cold:\n",
    "    print(\"It's a cold day\")\n",
    "    print(\"Wear warm clothes\")\n",
    "else:\n",
    "    print(\"A lovely day\")"
   ]
  },
  {
   "cell_type": "code",
   "execution_count": 29,
   "id": "a336d348",
   "metadata": {},
   "outputs": [
    {
     "name": "stdout",
     "output_type": "stream",
     "text": [
      "Does the buyer have a good credit score? True or False:False\n",
      "The down payment required is 200000.0\n"
     ]
    }
   ],
   "source": [
    "price = 1000000\n",
    "has_good_credit= (input(\"Does the buyer have a good credit score? True or False:\"))\n",
    "if has_good_credit == (\"True\"):\n",
    "    down_payment=0.1*price\n",
    "elif has_good_credit == (\"False\"):\n",
    "    down_payment=0.2*price\n",
    "print(f\"The down payment required is {down_payment}\")"
   ]
  },
  {
   "cell_type": "code",
   "execution_count": 4,
   "id": "0de8e2cd",
   "metadata": {},
   "outputs": [
    {
     "name": "stdout",
     "output_type": "stream",
     "text": [
      "0\n",
      "1\n",
      "2\n",
      "3\n",
      "4\n"
     ]
    }
   ],
   "source": [
    "x=0\n",
    "while x < 5:\n",
    "    print(x)\n",
    "    x=x+1"
   ]
  },
  {
   "cell_type": "code",
   "execution_count": 5,
   "id": "6e725861",
   "metadata": {},
   "outputs": [
    {
     "name": "stdout",
     "output_type": "stream",
     "text": [
      "\n",
      "*\n",
      "**\n",
      "***\n",
      "****\n"
     ]
    }
   ],
   "source": [
    "i=0\n",
    "while i<5:\n",
    "    print(\"*\"*i)\n",
    "    i=i+1"
   ]
  },
  {
   "cell_type": "code",
   "execution_count": 13,
   "id": "cc8f4251",
   "metadata": {},
   "outputs": [
    {
     "name": "stdout",
     "output_type": "stream",
     "text": [
      "You have three tries to guess the secret number!\n",
      "Enter your guess: 5\n",
      "Enter your guess: 7\n",
      "Enter your guess: 1\n",
      "You lose!\n"
     ]
    }
   ],
   "source": [
    "#This is a guessing game!\n",
    "print(\"You have three tries to guess the secret number!\")\n",
    "secret_number=int(9)\n",
    "guesses=0\n",
    "guess_limit=3\n",
    "while guesses<guess_limit:\n",
    "    g=int(input(\"Enter your guess: \"))\n",
    "    guesses=guesses+1\n",
    "    if g==secret_number:\n",
    "        print(\"You win!\")\n",
    "        break\n",
    "else:\n",
    "    print(\"You lose!\")"
   ]
  },
  {
   "cell_type": "code",
   "execution_count": 1,
   "id": "f4c8cc35",
   "metadata": {},
   "outputs": [
    {
     "name": "stdout",
     "output_type": "stream",
     "text": [
      "Write 'help' to get the commands\n",
      ">help\n",
      ">write 'start' to start the car \n",
      ">write 'stop' to stop the car\n",
      ">write 'quit' to quit the game\n",
      ">START\n",
      "Car started...vroom vroom\n",
      ">start\n",
      "It is already started!\n",
      ">stop\n",
      "Car stopped\n",
      ">stop\n",
      "Car is already stopped\n",
      ">Quit\n"
     ]
    }
   ],
   "source": [
    "#Car game\n",
    "inp=\"\"\n",
    "started= False\n",
    "stopped= False\n",
    "print(\"Write 'help' to get the commands\")\n",
    "while True:\n",
    "    inp=input(\">\")\n",
    "    if inp.lower() == \"start\":\n",
    "        if started:\n",
    "            print(\"It is already started!\")\n",
    "        else:\n",
    "            started=True\n",
    "            print(\"Car started...vroom vroom\")\n",
    "    elif inp.lower() == \"stop\":\n",
    "        if stopped:\n",
    "            print(\"Car is already stopped\")\n",
    "        else:\n",
    "            stopped=True\n",
    "            print(\"Car stopped\")\n",
    "    elif inp.lower()==\"quit\":\n",
    "        break\n",
    "    elif inp.lower() == \"help\":\n",
    "        print(\">write 'start' to start the car \\n>write 'stop' to stop the car\\n>write 'quit' to quit the game\")\n",
    "    else:\n",
    "        print(\"I am not quite sure I understand\")"
   ]
  },
  {
   "cell_type": "code",
   "execution_count": 7,
   "id": "b357e74c",
   "metadata": {},
   "outputs": [],
   "source": [
    "#For loop\n"
   ]
  },
  {
   "cell_type": "code",
   "execution_count": null,
   "id": "96aa6468",
   "metadata": {},
   "outputs": [],
   "source": [
    "a=int(input(\"Enter the first number: \"))\n",
    "b=int(input(\"Enter the second number: \"))\n",
    "print(\"The sum is:\", a+b)\n"
   ]
  },
  {
   "cell_type": "code",
   "execution_count": 3,
   "id": "edf8522b",
   "metadata": {},
   "outputs": [
    {
     "name": "stdout",
     "output_type": "stream",
     "text": [
      "4 5 6 7 8 8\n",
      "[4, 5, 6, 7, 8, 8]\n"
     ]
    }
   ],
   "source": [
    "a=list(map(int,input().split(' ')))\n",
    "print(a)"
   ]
  },
  {
   "cell_type": "code",
   "execution_count": 8,
   "id": "cbc42a27",
   "metadata": {},
   "outputs": [
    {
     "name": "stdout",
     "output_type": "stream",
     "text": [
      "Enter the list items: 4 5 6 7\n",
      "Enter the list items: Mohandas Karamchand Gandhi\n",
      "[4, 5, 6, 7]\n",
      "['Mohandas', 'Karamchand', 'Gandhi']\n"
     ]
    }
   ],
   "source": [
    "list1=[]\n",
    "list2=[]\n",
    "list1=[int(i) for i in input(\"Enter the list items: \").split(\" \")]\n",
    "list2=[i for i in input(\"Enter the list items: \").split(\" \")]\n",
    "print(list1)\n",
    "print(list2)"
   ]
  },
  {
   "cell_type": "code",
   "execution_count": 3,
   "id": "acd2fec6",
   "metadata": {},
   "outputs": [
    {
     "name": "stdout",
     "output_type": "stream",
     "text": [
      "Enter first number: 22\n",
      "Enter second number: 8\n",
      "The sum is 30\n"
     ]
    }
   ],
   "source": [
    "a=int(input(\"Enter first number: \"))\n",
    "b=int(input(\"Enter second number: \"))\n",
    "print(\"The sum is\", a+b)"
   ]
  },
  {
   "cell_type": "code",
   "execution_count": null,
   "id": "294653b6",
   "metadata": {},
   "outputs": [],
   "source": []
  }
 ],
 "metadata": {
  "kernelspec": {
   "display_name": "Python 3 (ipykernel)",
   "language": "python",
   "name": "python3"
  },
  "language_info": {
   "codemirror_mode": {
    "name": "ipython",
    "version": 3
   },
   "file_extension": ".py",
   "mimetype": "text/x-python",
   "name": "python",
   "nbconvert_exporter": "python",
   "pygments_lexer": "ipython3",
   "version": "3.9.7"
  }
 },
 "nbformat": 4,
 "nbformat_minor": 5
}
